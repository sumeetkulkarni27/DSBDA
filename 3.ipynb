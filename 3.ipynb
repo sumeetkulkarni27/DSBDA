{
 "cells": [
  {
   "cell_type": "code",
   "execution_count": 13,
   "id": "bb32c4ff",
   "metadata": {},
   "outputs": [],
   "source": [
    "import pandas as pd"
   ]
  },
  {
   "cell_type": "code",
   "execution_count": 14,
   "id": "c0d73189",
   "metadata": {},
   "outputs": [],
   "source": [
    "data = pd.read_csv(\"iris.csv\")"
   ]
  },
  {
   "cell_type": "code",
   "execution_count": 15,
   "id": "007ad5ec",
   "metadata": {},
   "outputs": [],
   "source": [
    "grouped_data = data.groupby('Species')"
   ]
  },
  {
   "cell_type": "code",
   "execution_count": 22,
   "id": "0e6ce6fb",
   "metadata": {},
   "outputs": [],
   "source": [
    "summary_stats = grouped_data['SepalLenCM'].describe()"
   ]
  },
  {
   "cell_type": "code",
   "execution_count": 21,
   "id": "1e52b5bf",
   "metadata": {},
   "outputs": [
    {
     "name": "stdout",
     "output_type": "stream",
     "text": [
      "Summary Statistics for Sepal Length:\n",
      "                SepalLenCM                                              \\\n",
      "                     count   mean       std  min    25%  50%  75%  max   \n",
      "Species                                                                  \n",
      "Iris-setosa           50.0  5.006  0.352490  4.3  4.800  5.0  5.2  5.8   \n",
      "Iris-versicolor       50.0  5.936  0.516171  4.9  5.600  5.9  6.3  7.0   \n",
      "Iris-virginica        50.0  6.588  0.635880  4.9  6.225  6.5  6.9  7.9   \n",
      "\n",
      "                SepalWidthCM         ... PetalLenCM      PetalWidthCM         \\\n",
      "                       count   mean  ...        75%  max        count   mean   \n",
      "Species                              ...                                       \n",
      "Iris-setosa             50.0  3.418  ...      1.575  1.9         50.0  0.244   \n",
      "Iris-versicolor         50.0  2.770  ...      4.600  5.1         50.0  1.326   \n",
      "Iris-virginica          50.0  2.974  ...      5.875  6.9         50.0  2.026   \n",
      "\n",
      "                                                    \n",
      "                      std  min  25%  50%  75%  max  \n",
      "Species                                             \n",
      "Iris-setosa      0.107210  0.1  0.2  0.2  0.3  0.6  \n",
      "Iris-versicolor  0.197753  1.0  1.2  1.3  1.5  1.8  \n",
      "Iris-virginica   0.274650  1.4  1.8  2.0  2.3  2.5  \n",
      "\n",
      "[3 rows x 32 columns]\n"
     ]
    }
   ],
   "source": [
    "print(\"Summary Statistics for Sepal Length:\")\n",
    "print(summary_stats)"
   ]
  },
  {
   "cell_type": "code",
   "execution_count": 10,
   "id": "2f7dab26",
   "metadata": {
    "scrolled": true
   },
   "outputs": [
    {
     "name": "stdout",
     "output_type": "stream",
     "text": [
      "\n",
      "Additional Statistics for Sepal Length by Species:\n",
      "                  mean  median  min  max       std\n",
      "Species                                           \n",
      "Iris-setosa      5.006     5.0  4.3  5.8  0.352490\n",
      "Iris-versicolor  5.936     5.9  4.9  7.0  0.516171\n",
      "Iris-virginica   6.588     6.5  4.9  7.9  0.635880\n"
     ]
    }
   ],
   "source": [
    "species_stats = grouped_data['SepalLenCM'].agg(['mean', 'median', 'min', 'max', 'std'])\n",
    "\n",
    "# Display the additional statistics\n",
    "print(\"\\nAdditional Statistics for Sepal Length by Species:\")\n",
    "print(species_stats)"
   ]
  },
  {
   "cell_type": "code",
   "execution_count": 21,
   "id": "bdfaf06f",
   "metadata": {},
   "outputs": [],
   "source": [
    "setosa_data = data[data['Species'] == 'Iris-setosa']\n",
    "versicolor_data = data[data['Species'] == 'Iris-versicolor']\n",
    "virginica_data = data[data['Species'] == 'Iris-virginica']"
   ]
  },
  {
   "cell_type": "code",
   "execution_count": 22,
   "id": "aea4e53a",
   "metadata": {},
   "outputs": [],
   "source": [
    "setosa_stats = setosa_data.describe()\n",
    "versicolor_stats = versicolor_data.describe()\n",
    "virginica_stats = virginica_data.describe()"
   ]
  },
  {
   "cell_type": "code",
   "execution_count": 23,
   "id": "d1019c37",
   "metadata": {},
   "outputs": [
    {
     "name": "stdout",
     "output_type": "stream",
     "text": [
      "Statistical Details for Iris-setosa:\n",
      "       SepalLenCM  SepalWidthCM  PetalLenCM  PetalWidthCM\n",
      "count    50.00000     50.000000   50.000000      50.00000\n",
      "mean      5.00600      3.418000    1.464000       0.24400\n",
      "std       0.35249      0.381024    0.173511       0.10721\n",
      "min       4.30000      2.300000    1.000000       0.10000\n",
      "25%       4.80000      3.125000    1.400000       0.20000\n",
      "50%       5.00000      3.400000    1.500000       0.20000\n",
      "75%       5.20000      3.675000    1.575000       0.30000\n",
      "max       5.80000      4.400000    1.900000       0.60000\n",
      "\n",
      "Statistical Details for Iris-versicolor:\n",
      "       SepalLenCM  SepalWidthCM  PetalLenCM  PetalWidthCM\n",
      "count   50.000000     50.000000   50.000000     50.000000\n",
      "mean     5.936000      2.770000    4.260000      1.326000\n",
      "std      0.516171      0.313798    0.469911      0.197753\n",
      "min      4.900000      2.000000    3.000000      1.000000\n",
      "25%      5.600000      2.525000    4.000000      1.200000\n",
      "50%      5.900000      2.800000    4.350000      1.300000\n",
      "75%      6.300000      3.000000    4.600000      1.500000\n",
      "max      7.000000      3.400000    5.100000      1.800000\n",
      "\n",
      "Statistical Details for Iris-virginica:\n",
      "       SepalLenCM  SepalWidthCM  PetalLenCM  PetalWidthCM\n",
      "count    50.00000     50.000000   50.000000      50.00000\n",
      "mean      6.58800      2.974000    5.552000       2.02600\n",
      "std       0.63588      0.322497    0.551895       0.27465\n",
      "min       4.90000      2.200000    4.500000       1.40000\n",
      "25%       6.22500      2.800000    5.100000       1.80000\n",
      "50%       6.50000      3.000000    5.550000       2.00000\n",
      "75%       6.90000      3.175000    5.875000       2.30000\n",
      "max       7.90000      3.800000    6.900000       2.50000\n"
     ]
    }
   ],
   "source": [
    "print(\"Statistical Details for Iris-setosa:\")\n",
    "print(setosa_stats)\n",
    "\n",
    "print(\"\\nStatistical Details for Iris-versicolor:\")\n",
    "print(versicolor_stats)\n",
    "\n",
    "print(\"\\nStatistical Details for Iris-virginica:\")\n",
    "print(virginica_stats)"
   ]
  }
 ],
 "metadata": {
  "kernelspec": {
   "display_name": "Python 3 (ipykernel)",
   "language": "python",
   "name": "python3"
  },
  "language_info": {
   "codemirror_mode": {
    "name": "ipython",
    "version": 3
   },
   "file_extension": ".py",
   "mimetype": "text/x-python",
   "name": "python",
   "nbconvert_exporter": "python",
   "pygments_lexer": "ipython3",
   "version": "3.11.0"
  }
 },
 "nbformat": 4,
 "nbformat_minor": 5
}
